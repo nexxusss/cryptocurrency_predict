{
 "cells": [
  {
   "cell_type": "markdown",
   "id": "f8039e57",
   "metadata": {},
   "source": [
    "### Importing dependecies"
   ]
  },
  {
   "cell_type": "code",
   "execution_count": 2,
   "id": "4a9674e2",
   "metadata": {},
   "outputs": [],
   "source": [
    "import numpy as np\n",
    "import pandas as pd\n",
    "import matplotlib.pyplot as plt\n",
    "from sklearn.preprocessing import OneHotEncoder\n",
    "from sklearn.linear_model import LinearRegression\n",
    "from sklearn.model_selection import train_test_split\n",
    "from sklearn.model_selection import cross_validate\n",
    "from utils import *"
   ]
  },
  {
   "cell_type": "markdown",
   "id": "4ec13e3a",
   "metadata": {},
   "source": [
    "### Loading data and plotting"
   ]
  },
  {
   "cell_type": "code",
   "execution_count": null,
   "id": "6c261212",
   "metadata": {},
   "outputs": [],
   "source": [
    "Bitcoin_data = pd.read_csv('resources/coin_Bitcoin.csv',index_col = ['Date'], parse_dates=True)\n",
    "Ethereum_data = pd.read_csv('resources/coin_Ethereum.csv',index_col = ['Date'], parse_dates=True)"
   ]
  },
  {
   "cell_type": "code",
   "execution_count": null,
   "id": "fac8a42f",
   "metadata": {},
   "outputs": [],
   "source": [
    "Bitcoin_data"
   ]
  },
  {
   "cell_type": "code",
   "execution_count": null,
   "id": "c83f41e5",
   "metadata": {},
   "outputs": [],
   "source": [
    "plt.plot(Bitcoin_data.index, Bitcoin_data['Close'])\n",
    "plt.plot(Ethereum_data.index, Ethereum_data['Close'])\n",
    "#plt.xticks(rotation=90)\n",
    "plt.show()"
   ]
  },
  {
   "cell_type": "markdown",
   "id": "64deff9c",
   "metadata": {},
   "source": [
    "### Linear Regression Model setup"
   ]
  },
  {
   "cell_type": "markdown",
   "id": "de82fe24",
   "metadata": {},
   "source": [
    "#### Choice of Predictors (Forward and Backward Stepwise Selection)"
   ]
  },
  {
   "cell_type": "code",
   "execution_count": 3,
   "id": "08c2d09b",
   "metadata": {},
   "outputs": [
    {
     "name": "stdout",
     "output_type": "stream",
     "text": [
      "(96387115.44629645, 0.8501984255096062, (LinearRegression(), 96387115.44629645, ['Marketcap', 'High', 'Low', 'Open']))\n"
     ]
    }
   ],
   "source": [
    "#Example: bitcoin prices\n",
    "#Preprocessing data\n",
    "Bitcoin_data = pd.read_csv('resources/coin_Bitcoin.csv')\n",
    "X = Bitcoin_data.drop('Close', axis=1).drop(['Date', 'SNo', 'Name', 'Symbol'], axis=1)\n",
    "Y = Bitcoin_data['Close']\n",
    "\n",
    "print(validate_best_model(get_all_models(X, Y, n_iteration=len(X.columns)), Bitcoin_data, 'Close'))"
   ]
  },
  {
   "cell_type": "code",
   "execution_count": null,
   "id": "55a4c79f",
   "metadata": {},
   "outputs": [],
   "source": [
    "list(X.columns)"
   ]
  },
  {
   "cell_type": "code",
   "execution_count": null,
   "id": "986a56fc",
   "metadata": {},
   "outputs": [],
   "source": []
  }
 ],
 "metadata": {
  "kernelspec": {
   "display_name": "Python 3 (ipykernel)",
   "language": "python",
   "name": "python3"
  },
  "language_info": {
   "codemirror_mode": {
    "name": "ipython",
    "version": 3
   },
   "file_extension": ".py",
   "mimetype": "text/x-python",
   "name": "python",
   "nbconvert_exporter": "python",
   "pygments_lexer": "ipython3",
   "version": "3.8.8"
  }
 },
 "nbformat": 4,
 "nbformat_minor": 5
}
